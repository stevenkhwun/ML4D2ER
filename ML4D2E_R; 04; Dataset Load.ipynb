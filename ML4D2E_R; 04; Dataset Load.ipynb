{
 "cells": [
  {
   "cell_type": "markdown",
   "metadata": {},
   "source": [
    "# Downloading the Datasets and Example Code"
   ]
  },
  {
   "cell_type": "markdown",
   "metadata": {},
   "source": [
    "## Understanding the datasets used in this book"
   ]
  },
  {
   "cell_type": "code",
   "execution_count": 1,
   "metadata": {},
   "outputs": [
    {
     "name": "stderr",
     "output_type": "stream",
     "text": [
      "Loading required package: feather\n",
      "\n",
      "Warning message in library(package, lib.loc = lib.loc, character.only = TRUE, logical.return = TRUE, :\n",
      "\"there is no package called 'feather'\"\n",
      "Installing package into 'C:/Users/user/AppData/Local/R/win-library/4.2'\n",
      "(as 'lib' is unspecified)\n",
      "\n"
     ]
    },
    {
     "name": "stdout",
     "output_type": "stream",
     "text": [
      "package 'feather' successfully unpacked and MD5 sums checked\n",
      "\n",
      "The downloaded binary packages are in\n",
      "\tC:\\Users\\user\\AppData\\Local\\Temp\\Rtmp8gfbxf\\downloaded_packages\n"
     ]
    }
   ],
   "source": [
    "if (!require(\"feather\")) install.packages(\"feather\")\n",
    "library(feather)"
   ]
  },
  {
   "cell_type": "code",
   "execution_count": 2,
   "metadata": {},
   "outputs": [
    {
     "name": "stderr",
     "output_type": "stream",
     "text": [
      "Warning message:\n",
      "\"Coercing int64 to double\"\n"
     ]
    },
    {
     "name": "stdout",
     "output_type": "stream",
     "text": [
      "\u001b[90m# A tibble: 144 × 2\u001b[39m\n",
      "   Month   Passengers\n",
      "   \u001b[3m\u001b[90m<chr>\u001b[39m\u001b[23m        \u001b[3m\u001b[90m<dbl>\u001b[39m\u001b[23m\n",
      "\u001b[90m 1\u001b[39m 1949-01        112\n",
      "\u001b[90m 2\u001b[39m 1949-02        118\n",
      "\u001b[90m 3\u001b[39m 1949-03        132\n",
      "\u001b[90m 4\u001b[39m 1949-04        129\n",
      "\u001b[90m 5\u001b[39m 1949-05        121\n",
      "\u001b[90m 6\u001b[39m 1949-06        135\n",
      "\u001b[90m 7\u001b[39m 1949-07        148\n",
      "\u001b[90m 8\u001b[39m 1949-08        148\n",
      "\u001b[90m 9\u001b[39m 1949-09        136\n",
      "\u001b[90m10\u001b[39m 1949-10        119\n",
      "\u001b[90m# … with 134 more rows\u001b[39m\n"
     ]
    }
   ],
   "source": [
    "read_df <- read_feather('air_passengers.feather')\n",
    "print(read_df)"
   ]
  },
  {
   "cell_type": "markdown",
   "metadata": {},
   "source": [
    "## The following codes have been modified to read a file in the specific folder, not necessary in the same folder as in the above codes."
   ]
  },
  {
   "cell_type": "code",
   "execution_count": 3,
   "metadata": {},
   "outputs": [
    {
     "name": "stderr",
     "output_type": "stream",
     "text": [
      "Warning message:\n",
      "\"Coercing int64 to double\"\n"
     ]
    },
    {
     "name": "stdout",
     "output_type": "stream",
     "text": [
      "\u001b[90m# A tibble: 144 × 2\u001b[39m\n",
      "   Month   Passengers\n",
      "   \u001b[3m\u001b[90m<chr>\u001b[39m\u001b[23m        \u001b[3m\u001b[90m<dbl>\u001b[39m\u001b[23m\n",
      "\u001b[90m 1\u001b[39m 1949-01        112\n",
      "\u001b[90m 2\u001b[39m 1949-02        118\n",
      "\u001b[90m 3\u001b[39m 1949-03        132\n",
      "\u001b[90m 4\u001b[39m 1949-04        129\n",
      "\u001b[90m 5\u001b[39m 1949-05        121\n",
      "\u001b[90m 6\u001b[39m 1949-06        135\n",
      "\u001b[90m 7\u001b[39m 1949-07        148\n",
      "\u001b[90m 8\u001b[39m 1949-08        148\n",
      "\u001b[90m 9\u001b[39m 1949-09        136\n",
      "\u001b[90m10\u001b[39m 1949-10        119\n",
      "\u001b[90m# … with 134 more rows\u001b[39m\n"
     ]
    }
   ],
   "source": [
    "read_df2 <- read_feather('D:/OneDrive/Data/ML4D2E/air_passengers.feather')\n",
    "print(read_df2)"
   ]
  },
  {
   "cell_type": "code",
   "execution_count": 4,
   "metadata": {},
   "outputs": [
    {
     "name": "stdout",
     "output_type": "stream",
     "text": [
      "\u001b[90m# A tibble: 50,000 × 2\u001b[39m\n",
      "   review                                                                senti…¹\n",
      "   \u001b[3m\u001b[90m<chr>\u001b[39m\u001b[23m                                                                   \u001b[3m\u001b[90m<int>\u001b[39m\u001b[23m\n",
      "\u001b[90m 1\u001b[39m \u001b[90m\"\u001b[39mOne of the other reviewers has mentioned that after watching just 1…       1\n",
      "\u001b[90m 2\u001b[39m \u001b[90m\"\u001b[39mA wonderful little production. <br /><br />The filming technique is…       1\n",
      "\u001b[90m 3\u001b[39m \u001b[90m\"\u001b[39mI thought this was a wonderful way to spend time on a too hot summe…       1\n",
      "\u001b[90m 4\u001b[39m \u001b[90m\"\u001b[39mBasically there's a family where a little boy (Jake) thinks there's…       0\n",
      "\u001b[90m 5\u001b[39m \u001b[90m\"\u001b[39mPetter Mattei's \\\"Love in the Time of Money\\\" is a visually stunnin…       1\n",
      "\u001b[90m 6\u001b[39m \u001b[90m\"\u001b[39mProbably my all-time favorite movie, a story of selflessness, sacri…       1\n",
      "\u001b[90m 7\u001b[39m \u001b[90m\"\u001b[39mI sure would like to see a resurrection of a up dated Seahunt serie…       1\n",
      "\u001b[90m 8\u001b[39m \u001b[90m\"\u001b[39mThis show was an amazing, fresh & innovative idea in the 70's when …       0\n",
      "\u001b[90m 9\u001b[39m \u001b[90m\"\u001b[39mEncouraged by the positive comments about this film on here I was l…       0\n",
      "\u001b[90m10\u001b[39m \u001b[90m\"\u001b[39mIf you like original gut wrenching laughter you will like this movi…       1\n",
      "\u001b[90m# … with 49,990 more rows, and abbreviated variable name ¹​sentiment\u001b[39m\n"
     ]
    }
   ],
   "source": [
    "read_df2 <- read_feather('D:/OneDrive/Data/ML4D2E/imdb_50k.feather')\n",
    "print(read_df2)"
   ]
  },
  {
   "cell_type": "code",
   "execution_count": null,
   "metadata": {},
   "outputs": [],
   "source": []
  },
  {
   "cell_type": "code",
   "execution_count": null,
   "metadata": {},
   "outputs": [],
   "source": []
  }
 ],
 "metadata": {
  "kernelspec": {
   "display_name": "R",
   "language": "R",
   "name": "ir"
  },
  "language_info": {
   "codemirror_mode": "r",
   "file_extension": ".r",
   "mimetype": "text/x-r-source",
   "name": "R",
   "pygments_lexer": "r",
   "version": "4.2.1"
  }
 },
 "nbformat": 4,
 "nbformat_minor": 4
}
